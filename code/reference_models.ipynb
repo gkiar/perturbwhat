{
 "cells": [
  {
   "cell_type": "code",
   "execution_count": 5,
   "id": "6dec0359",
   "metadata": {},
   "outputs": [],
   "source": [
    "from sklearn.ensemble import RandomForestClassifier, AdaBoostClassifier\n",
    "from sklearn.discriminant_analysis import LinearDiscriminantAnalysis\n",
    "from sklearn.gaussian_process import GaussianProcessClassifier\n",
    "from sklearn.preprocessing import FunctionTransformer\n",
    "from sklearn.metrics import f1_score, accuracy_score\n",
    "from sklearn.linear_model import LogisticRegression\n",
    "from sklearn.cluster import FeatureAgglomeration\n",
    "from sklearn.neighbors import KNeighborsClassifier\n",
    "from sklearn.naive_bayes import GaussianNB\n",
    "from sklearn.decomposition import PCA\n",
    "from sklearn.pipeline import Pipeline\n",
    "from sklearn.svm import SVC\n",
    "\n",
    "import pandas as pd\n",
    "import scipy as sp\n",
    "import numpy as np\n",
    "\n",
    "from models import AggregateLearner"
   ]
  },
  {
   "cell_type": "code",
   "execution_count": 6,
   "id": "cc8bbda9",
   "metadata": {},
   "outputs": [],
   "source": [
    "def performanceP(true, f1, acc, n=1000, rs=42):\n",
    "    np.random.seed(rs)\n",
    "\n",
    "    f1_dist = np.array([f1_score(true, np.random.choice(2, len(true)))\n",
    "                        for _ in range(n)])\n",
    "    f1N = np.sum(f1_dist > f1)\n",
    "    f1p = 1.0 * f1N / n\n",
    "    print(\"F1: {0} (p = {2}; chance = {3})\".format(f1, f1p, np.mean(f1_dist)))\n",
    "    \n",
    "    acc_dist = np.array([accuracy_score(true, np.random.choice(2, len(true)))\n",
    "                for _ in range(n)])\n",
    "    accN = np.sum(acc_dist > acc)\n",
    "    accp = 1.0 * accN / n\n",
    "    print(\"Acc: {0} (p = {2}; chance = {3})\".format(acc, accp, np.mean(acc_dist)))\n",
    "    return f1p, accp"
   ]
  },
  {
   "cell_type": "code",
   "execution_count": 32,
   "id": "48b4f426",
   "metadata": {},
   "outputs": [],
   "source": [
    "# Load Dataset\n",
    "df = pd.read_hdf('../data/aggregation_dset100x1x1x20.h5')\n",
    "df = df[df[\"instrumentation\"] == \"sparse\"]"
   ]
  },
  {
   "cell_type": "code",
   "execution_count": 11,
   "id": "cb3772fe",
   "metadata": {},
   "outputs": [],
   "source": [
    "# Create list of targets\n",
    "targets = [\"age\", \"sex\"]\n",
    "\n",
    "# Create pre-processing components\n",
    "datavars = [\"graph\", \"rankgraph\", \"loggraph\", \"zgraph\"]\n",
    "\n",
    "# Create decomposition components\n",
    "pca = ('pca', PCA(n_components=20))\n",
    "fa = ('fa', FeatureAgglomeration(n_clusters=20))\n",
    "embeds = [pca, fa]\n",
    "\n",
    "# Create classifier components\n",
    "svc = ('svc', SVC(class_weight=\"balanced\", probability=True, max_iter=1e5))\n",
    "lrc = ('lrc', LogisticRegression(class_weight=\"balanced\", solver='liblinear', max_iter=1e5, penalty='l2'))\n",
    "# gnb = ('gnb', GaussianNB())\n",
    "# gpc = ('gpc', GaussianProcessClassifier())\n",
    "# knn = ('knn', KNeighborsClassifier(n_neighbors=10))\n",
    "# rfc = ('rfc', RandomForestClassifier(class_weight=\"balanced\"))\n",
    "# ada = ('ada', AdaBoostClassifier())\n",
    "# clfs = [svc, lrc, gnb, gpc, knn, rfc, ada]\n",
    "clfs = [svc, lrc]"
   ]
  },
  {
   "cell_type": "code",
   "execution_count": 14,
   "id": "1f825c50",
   "metadata": {},
   "outputs": [
    {
     "name": "stdout",
     "output_type": "stream",
     "text": [
      "sex graph pca svc\n",
      "sex graph pca lrc\n",
      "sex graph fa svc\n",
      "sex graph fa lrc\n",
      "sex rankgraph pca svc\n",
      "sex rankgraph pca lrc\n",
      "sex rankgraph fa svc\n",
      "sex rankgraph fa lrc\n",
      "sex loggraph pca svc\n",
      "sex loggraph pca lrc\n",
      "sex loggraph fa svc\n",
      "sex loggraph fa lrc\n",
      "sex zgraph pca svc\n",
      "sex zgraph pca lrc\n",
      "sex zgraph fa svc\n",
      "sex zgraph fa lrc\n"
     ]
    }
   ],
   "source": [
    "observation = \"simulation\"\n",
    "refstr = \"ref\"\n",
    "jack = 100\n",
    "rs = 41\n",
    "\n",
    "results = []\n",
    "targets = ['sex']\n",
    "for t in targets:\n",
    "    for dva in datavars:\n",
    "        for e in embeds:\n",
    "            for c in clfs:\n",
    "                pipe = Pipeline([e, c])\n",
    "                clf = AggregateLearner(df, pipe, data_id=dva, target_id=t, observation_id=observation,\n",
    "                                       sample_id='subject', refstr=refstr, cvfolds=5, oos=0.2,\n",
    "                                       jack=jack, triu=True, random_seed=rs, verbose=False)\n",
    "\n",
    "                \n",
    "                print(t, dva, e[0], c[0])\n",
    "                perf = clf.fit(aggregation=\"ref\")\n",
    "                perf['f1'], perf['acc'], perf['p_f1'], perf['p_acc']\n",
    "                results += [{\n",
    "                    \"target\": t,\n",
    "                    \"preproc\": dva,\n",
    "                    \"embedding\": e[0],\n",
    "                    \"classifier\": c[0],\n",
    "                    \"f1\": perf['f1'],\n",
    "                    \"acc\": perf['acc'],\n",
    "                    \"p_f1\": perf['p_f1'],\n",
    "                    \"p_acc\": perf['p_acc']\n",
    "                }]\n",
    "\n",
    "resdf = pd.DataFrame.from_dict(results)"
   ]
  },
  {
   "cell_type": "code",
   "execution_count": 15,
   "id": "56536ff1",
   "metadata": {},
   "outputs": [
    {
     "data": {
      "text/html": [
       "<div>\n",
       "<style scoped>\n",
       "    .dataframe tbody tr th:only-of-type {\n",
       "        vertical-align: middle;\n",
       "    }\n",
       "\n",
       "    .dataframe tbody tr th {\n",
       "        vertical-align: top;\n",
       "    }\n",
       "\n",
       "    .dataframe thead th {\n",
       "        text-align: right;\n",
       "    }\n",
       "</style>\n",
       "<table border=\"1\" class=\"dataframe\">\n",
       "  <thead>\n",
       "    <tr style=\"text-align: right;\">\n",
       "      <th></th>\n",
       "      <th>target</th>\n",
       "      <th>preproc</th>\n",
       "      <th>embedding</th>\n",
       "      <th>classifier</th>\n",
       "      <th>f1</th>\n",
       "      <th>acc</th>\n",
       "      <th>p_f1</th>\n",
       "      <th>p_acc</th>\n",
       "    </tr>\n",
       "  </thead>\n",
       "  <tbody>\n",
       "    <tr>\n",
       "      <th>0</th>\n",
       "      <td>sex</td>\n",
       "      <td>graph</td>\n",
       "      <td>pca</td>\n",
       "      <td>svc</td>\n",
       "      <td>0.666667</td>\n",
       "      <td>0.50</td>\n",
       "      <td>0.125</td>\n",
       "      <td>0.391</td>\n",
       "    </tr>\n",
       "    <tr>\n",
       "      <th>1</th>\n",
       "      <td>sex</td>\n",
       "      <td>graph</td>\n",
       "      <td>pca</td>\n",
       "      <td>lrc</td>\n",
       "      <td>0.608696</td>\n",
       "      <td>0.55</td>\n",
       "      <td>0.248</td>\n",
       "      <td>0.241</td>\n",
       "    </tr>\n",
       "    <tr>\n",
       "      <th>2</th>\n",
       "      <td>sex</td>\n",
       "      <td>graph</td>\n",
       "      <td>fa</td>\n",
       "      <td>svc</td>\n",
       "      <td>0.709677</td>\n",
       "      <td>0.55</td>\n",
       "      <td>0.084</td>\n",
       "      <td>0.241</td>\n",
       "    </tr>\n",
       "    <tr>\n",
       "      <th>3</th>\n",
       "      <td>sex</td>\n",
       "      <td>graph</td>\n",
       "      <td>fa</td>\n",
       "      <td>lrc</td>\n",
       "      <td>0.636364</td>\n",
       "      <td>0.60</td>\n",
       "      <td>0.201</td>\n",
       "      <td>0.121</td>\n",
       "    </tr>\n",
       "    <tr>\n",
       "      <th>4</th>\n",
       "      <td>sex</td>\n",
       "      <td>rankgraph</td>\n",
       "      <td>pca</td>\n",
       "      <td>svc</td>\n",
       "      <td>0.750000</td>\n",
       "      <td>0.60</td>\n",
       "      <td>0.038</td>\n",
       "      <td>0.121</td>\n",
       "    </tr>\n",
       "    <tr>\n",
       "      <th>5</th>\n",
       "      <td>sex</td>\n",
       "      <td>rankgraph</td>\n",
       "      <td>pca</td>\n",
       "      <td>lrc</td>\n",
       "      <td>0.846154</td>\n",
       "      <td>0.80</td>\n",
       "      <td>0.001</td>\n",
       "      <td>0.002</td>\n",
       "    </tr>\n",
       "    <tr>\n",
       "      <th>6</th>\n",
       "      <td>sex</td>\n",
       "      <td>rankgraph</td>\n",
       "      <td>fa</td>\n",
       "      <td>svc</td>\n",
       "      <td>0.750000</td>\n",
       "      <td>0.60</td>\n",
       "      <td>0.038</td>\n",
       "      <td>0.121</td>\n",
       "    </tr>\n",
       "    <tr>\n",
       "      <th>7</th>\n",
       "      <td>sex</td>\n",
       "      <td>rankgraph</td>\n",
       "      <td>fa</td>\n",
       "      <td>lrc</td>\n",
       "      <td>0.600000</td>\n",
       "      <td>0.60</td>\n",
       "      <td>0.304</td>\n",
       "      <td>0.121</td>\n",
       "    </tr>\n",
       "    <tr>\n",
       "      <th>8</th>\n",
       "      <td>sex</td>\n",
       "      <td>loggraph</td>\n",
       "      <td>pca</td>\n",
       "      <td>svc</td>\n",
       "      <td>0.758621</td>\n",
       "      <td>0.65</td>\n",
       "      <td>0.026</td>\n",
       "      <td>0.049</td>\n",
       "    </tr>\n",
       "    <tr>\n",
       "      <th>9</th>\n",
       "      <td>sex</td>\n",
       "      <td>loggraph</td>\n",
       "      <td>pca</td>\n",
       "      <td>lrc</td>\n",
       "      <td>0.720000</td>\n",
       "      <td>0.65</td>\n",
       "      <td>0.057</td>\n",
       "      <td>0.049</td>\n",
       "    </tr>\n",
       "    <tr>\n",
       "      <th>10</th>\n",
       "      <td>sex</td>\n",
       "      <td>loggraph</td>\n",
       "      <td>fa</td>\n",
       "      <td>svc</td>\n",
       "      <td>0.750000</td>\n",
       "      <td>0.60</td>\n",
       "      <td>0.038</td>\n",
       "      <td>0.121</td>\n",
       "    </tr>\n",
       "    <tr>\n",
       "      <th>11</th>\n",
       "      <td>sex</td>\n",
       "      <td>loggraph</td>\n",
       "      <td>fa</td>\n",
       "      <td>lrc</td>\n",
       "      <td>0.727273</td>\n",
       "      <td>0.70</td>\n",
       "      <td>0.043</td>\n",
       "      <td>0.021</td>\n",
       "    </tr>\n",
       "    <tr>\n",
       "      <th>12</th>\n",
       "      <td>sex</td>\n",
       "      <td>zgraph</td>\n",
       "      <td>pca</td>\n",
       "      <td>svc</td>\n",
       "      <td>0.750000</td>\n",
       "      <td>0.60</td>\n",
       "      <td>0.038</td>\n",
       "      <td>0.121</td>\n",
       "    </tr>\n",
       "    <tr>\n",
       "      <th>13</th>\n",
       "      <td>sex</td>\n",
       "      <td>zgraph</td>\n",
       "      <td>pca</td>\n",
       "      <td>lrc</td>\n",
       "      <td>0.571429</td>\n",
       "      <td>0.55</td>\n",
       "      <td>0.366</td>\n",
       "      <td>0.241</td>\n",
       "    </tr>\n",
       "    <tr>\n",
       "      <th>14</th>\n",
       "      <td>sex</td>\n",
       "      <td>zgraph</td>\n",
       "      <td>fa</td>\n",
       "      <td>svc</td>\n",
       "      <td>0.750000</td>\n",
       "      <td>0.60</td>\n",
       "      <td>0.038</td>\n",
       "      <td>0.121</td>\n",
       "    </tr>\n",
       "    <tr>\n",
       "      <th>15</th>\n",
       "      <td>sex</td>\n",
       "      <td>zgraph</td>\n",
       "      <td>fa</td>\n",
       "      <td>lrc</td>\n",
       "      <td>0.666667</td>\n",
       "      <td>0.70</td>\n",
       "      <td>0.125</td>\n",
       "      <td>0.021</td>\n",
       "    </tr>\n",
       "  </tbody>\n",
       "</table>\n",
       "</div>"
      ],
      "text/plain": [
       "   target    preproc embedding classifier        f1   acc   p_f1  p_acc\n",
       "0     sex      graph       pca        svc  0.666667  0.50  0.125  0.391\n",
       "1     sex      graph       pca        lrc  0.608696  0.55  0.248  0.241\n",
       "2     sex      graph        fa        svc  0.709677  0.55  0.084  0.241\n",
       "3     sex      graph        fa        lrc  0.636364  0.60  0.201  0.121\n",
       "4     sex  rankgraph       pca        svc  0.750000  0.60  0.038  0.121\n",
       "5     sex  rankgraph       pca        lrc  0.846154  0.80  0.001  0.002\n",
       "6     sex  rankgraph        fa        svc  0.750000  0.60  0.038  0.121\n",
       "7     sex  rankgraph        fa        lrc  0.600000  0.60  0.304  0.121\n",
       "8     sex   loggraph       pca        svc  0.758621  0.65  0.026  0.049\n",
       "9     sex   loggraph       pca        lrc  0.720000  0.65  0.057  0.049\n",
       "10    sex   loggraph        fa        svc  0.750000  0.60  0.038  0.121\n",
       "11    sex   loggraph        fa        lrc  0.727273  0.70  0.043  0.021\n",
       "12    sex     zgraph       pca        svc  0.750000  0.60  0.038  0.121\n",
       "13    sex     zgraph       pca        lrc  0.571429  0.55  0.366  0.241\n",
       "14    sex     zgraph        fa        svc  0.750000  0.60  0.038  0.121\n",
       "15    sex     zgraph        fa        lrc  0.666667  0.70  0.125  0.021"
      ]
     },
     "execution_count": 15,
     "metadata": {},
     "output_type": "execute_result"
    }
   ],
   "source": [
    "resdf"
   ]
  },
  {
   "cell_type": "code",
   "execution_count": 16,
   "id": "f83279c2",
   "metadata": {},
   "outputs": [
    {
     "data": {
      "text/plain": [
       "{'true': array([0., 0., 1., 1., 0., 1., 0., 1., 0., 1., 0., 1., 0., 1., 1., 1., 0.,\n",
       "        1., 1., 1.]),\n",
       " 'pred': array([0., 0., 0., 0., 0., 1., 0., 1., 0., 0., 0., 1., 0., 0., 1., 1., 0.,\n",
       "        1., 0., 0.]),\n",
       " 'acc': 0.7,\n",
       " 'f1': 0.6666666666666666,\n",
       " 'comp_acc': 0.5999999999999999,\n",
       " 'comp_f1': 0.5774212715389186,\n",
       " 'p_f1': 0.125,\n",
       " 'p_acc': 0.021}"
      ]
     },
     "execution_count": 16,
     "metadata": {},
     "output_type": "execute_result"
    }
   ],
   "source": [
    "perf"
   ]
  },
  {
   "cell_type": "code",
   "execution_count": null,
   "id": "f18e6849",
   "metadata": {},
   "outputs": [],
   "source": []
  },
  {
   "cell_type": "code",
   "execution_count": 13,
   "id": "88868865",
   "metadata": {},
   "outputs": [
    {
     "data": {
      "text/html": [
       "<div>\n",
       "<style scoped>\n",
       "    .dataframe tbody tr th:only-of-type {\n",
       "        vertical-align: middle;\n",
       "    }\n",
       "\n",
       "    .dataframe tbody tr th {\n",
       "        vertical-align: top;\n",
       "    }\n",
       "\n",
       "    .dataframe thead th {\n",
       "        text-align: right;\n",
       "    }\n",
       "</style>\n",
       "<table border=\"1\" class=\"dataframe\">\n",
       "  <thead>\n",
       "    <tr style=\"text-align: right;\">\n",
       "      <th></th>\n",
       "      <th>target</th>\n",
       "      <th>preproc</th>\n",
       "      <th>embedding</th>\n",
       "      <th>classifier</th>\n",
       "      <th>f1</th>\n",
       "      <th>acc</th>\n",
       "      <th>p_f1</th>\n",
       "      <th>p_acc</th>\n",
       "    </tr>\n",
       "  </thead>\n",
       "  <tbody>\n",
       "    <tr>\n",
       "      <th>0</th>\n",
       "      <td>age</td>\n",
       "      <td>graph</td>\n",
       "      <td>pca</td>\n",
       "      <td>svc</td>\n",
       "      <td>0.848485</td>\n",
       "      <td>0.75</td>\n",
       "      <td>0.000</td>\n",
       "      <td>0.010</td>\n",
       "    </tr>\n",
       "    <tr>\n",
       "      <th>1</th>\n",
       "      <td>age</td>\n",
       "      <td>graph</td>\n",
       "      <td>pca</td>\n",
       "      <td>lrc</td>\n",
       "      <td>0.814815</td>\n",
       "      <td>0.75</td>\n",
       "      <td>0.007</td>\n",
       "      <td>0.010</td>\n",
       "    </tr>\n",
       "    <tr>\n",
       "      <th>2</th>\n",
       "      <td>age</td>\n",
       "      <td>graph</td>\n",
       "      <td>fa</td>\n",
       "      <td>svc</td>\n",
       "      <td>0.866667</td>\n",
       "      <td>0.80</td>\n",
       "      <td>0.000</td>\n",
       "      <td>0.003</td>\n",
       "    </tr>\n",
       "    <tr>\n",
       "      <th>3</th>\n",
       "      <td>age</td>\n",
       "      <td>graph</td>\n",
       "      <td>fa</td>\n",
       "      <td>lrc</td>\n",
       "      <td>0.758621</td>\n",
       "      <td>0.65</td>\n",
       "      <td>0.047</td>\n",
       "      <td>0.053</td>\n",
       "    </tr>\n",
       "    <tr>\n",
       "      <th>4</th>\n",
       "      <td>age</td>\n",
       "      <td>rankgraph</td>\n",
       "      <td>pca</td>\n",
       "      <td>svc</td>\n",
       "      <td>0.823529</td>\n",
       "      <td>0.70</td>\n",
       "      <td>0.007</td>\n",
       "      <td>0.023</td>\n",
       "    </tr>\n",
       "    <tr>\n",
       "      <th>5</th>\n",
       "      <td>age</td>\n",
       "      <td>rankgraph</td>\n",
       "      <td>pca</td>\n",
       "      <td>lrc</td>\n",
       "      <td>0.838710</td>\n",
       "      <td>0.75</td>\n",
       "      <td>0.003</td>\n",
       "      <td>0.010</td>\n",
       "    </tr>\n",
       "    <tr>\n",
       "      <th>6</th>\n",
       "      <td>age</td>\n",
       "      <td>rankgraph</td>\n",
       "      <td>fa</td>\n",
       "      <td>svc</td>\n",
       "      <td>0.823529</td>\n",
       "      <td>0.70</td>\n",
       "      <td>0.007</td>\n",
       "      <td>0.023</td>\n",
       "    </tr>\n",
       "    <tr>\n",
       "      <th>7</th>\n",
       "      <td>age</td>\n",
       "      <td>rankgraph</td>\n",
       "      <td>fa</td>\n",
       "      <td>lrc</td>\n",
       "      <td>0.774194</td>\n",
       "      <td>0.65</td>\n",
       "      <td>0.030</td>\n",
       "      <td>0.053</td>\n",
       "    </tr>\n",
       "    <tr>\n",
       "      <th>8</th>\n",
       "      <td>age</td>\n",
       "      <td>loggraph</td>\n",
       "      <td>pca</td>\n",
       "      <td>svc</td>\n",
       "      <td>0.848485</td>\n",
       "      <td>0.75</td>\n",
       "      <td>0.000</td>\n",
       "      <td>0.010</td>\n",
       "    </tr>\n",
       "    <tr>\n",
       "      <th>9</th>\n",
       "      <td>age</td>\n",
       "      <td>loggraph</td>\n",
       "      <td>pca</td>\n",
       "      <td>lrc</td>\n",
       "      <td>0.827586</td>\n",
       "      <td>0.75</td>\n",
       "      <td>0.004</td>\n",
       "      <td>0.010</td>\n",
       "    </tr>\n",
       "    <tr>\n",
       "      <th>10</th>\n",
       "      <td>age</td>\n",
       "      <td>loggraph</td>\n",
       "      <td>fa</td>\n",
       "      <td>svc</td>\n",
       "      <td>0.823529</td>\n",
       "      <td>0.70</td>\n",
       "      <td>0.007</td>\n",
       "      <td>0.023</td>\n",
       "    </tr>\n",
       "    <tr>\n",
       "      <th>11</th>\n",
       "      <td>age</td>\n",
       "      <td>loggraph</td>\n",
       "      <td>fa</td>\n",
       "      <td>lrc</td>\n",
       "      <td>0.812500</td>\n",
       "      <td>0.70</td>\n",
       "      <td>0.015</td>\n",
       "      <td>0.023</td>\n",
       "    </tr>\n",
       "    <tr>\n",
       "      <th>12</th>\n",
       "      <td>age</td>\n",
       "      <td>zgraph</td>\n",
       "      <td>pca</td>\n",
       "      <td>svc</td>\n",
       "      <td>0.903226</td>\n",
       "      <td>0.85</td>\n",
       "      <td>0.000</td>\n",
       "      <td>0.000</td>\n",
       "    </tr>\n",
       "    <tr>\n",
       "      <th>13</th>\n",
       "      <td>age</td>\n",
       "      <td>zgraph</td>\n",
       "      <td>pca</td>\n",
       "      <td>lrc</td>\n",
       "      <td>0.888889</td>\n",
       "      <td>0.85</td>\n",
       "      <td>0.000</td>\n",
       "      <td>0.000</td>\n",
       "    </tr>\n",
       "    <tr>\n",
       "      <th>14</th>\n",
       "      <td>age</td>\n",
       "      <td>zgraph</td>\n",
       "      <td>fa</td>\n",
       "      <td>svc</td>\n",
       "      <td>0.857143</td>\n",
       "      <td>0.80</td>\n",
       "      <td>0.000</td>\n",
       "      <td>0.003</td>\n",
       "    </tr>\n",
       "    <tr>\n",
       "      <th>15</th>\n",
       "      <td>age</td>\n",
       "      <td>zgraph</td>\n",
       "      <td>fa</td>\n",
       "      <td>lrc</td>\n",
       "      <td>0.814815</td>\n",
       "      <td>0.75</td>\n",
       "      <td>0.007</td>\n",
       "      <td>0.010</td>\n",
       "    </tr>\n",
       "  </tbody>\n",
       "</table>\n",
       "</div>"
      ],
      "text/plain": [
       "   target    preproc embedding classifier        f1   acc   p_f1  p_acc\n",
       "0     age      graph       pca        svc  0.848485  0.75  0.000  0.010\n",
       "1     age      graph       pca        lrc  0.814815  0.75  0.007  0.010\n",
       "2     age      graph        fa        svc  0.866667  0.80  0.000  0.003\n",
       "3     age      graph        fa        lrc  0.758621  0.65  0.047  0.053\n",
       "4     age  rankgraph       pca        svc  0.823529  0.70  0.007  0.023\n",
       "5     age  rankgraph       pca        lrc  0.838710  0.75  0.003  0.010\n",
       "6     age  rankgraph        fa        svc  0.823529  0.70  0.007  0.023\n",
       "7     age  rankgraph        fa        lrc  0.774194  0.65  0.030  0.053\n",
       "8     age   loggraph       pca        svc  0.848485  0.75  0.000  0.010\n",
       "9     age   loggraph       pca        lrc  0.827586  0.75  0.004  0.010\n",
       "10    age   loggraph        fa        svc  0.823529  0.70  0.007  0.023\n",
       "11    age   loggraph        fa        lrc  0.812500  0.70  0.015  0.023\n",
       "12    age     zgraph       pca        svc  0.903226  0.85  0.000  0.000\n",
       "13    age     zgraph       pca        lrc  0.888889  0.85  0.000  0.000\n",
       "14    age     zgraph        fa        svc  0.857143  0.80  0.000  0.003\n",
       "15    age     zgraph        fa        lrc  0.814815  0.75  0.007  0.010"
      ]
     },
     "execution_count": 13,
     "metadata": {},
     "output_type": "execute_result"
    }
   ],
   "source": [
    "resdf"
   ]
  },
  {
   "cell_type": "code",
   "execution_count": null,
   "id": "18d327c2",
   "metadata": {},
   "outputs": [],
   "source": []
  },
  {
   "cell_type": "code",
   "execution_count": 103,
   "id": "bd4409c0",
   "metadata": {},
   "outputs": [],
   "source": [
    "from sklearn.cross_decomposition import PLSRegression\n",
    "from sklearn.model_selection import KFold\n",
    "from sklearn.metrics import mean_absolute_error"
   ]
  },
  {
   "cell_type": "code",
   "execution_count": 105,
   "id": "9ef8f23e",
   "metadata": {},
   "outputs": [],
   "source": [
    "clf = PLSRegression(n_components=20, scale=True, tol=1e-6)\n",
    "cv = KFold(n_splits=10)"
   ]
  },
  {
   "cell_type": "code",
   "execution_count": 121,
   "id": "319b712b",
   "metadata": {},
   "outputs": [
    {
     "name": "stdout",
     "output_type": "stream",
     "text": [
      "0.4093991983588986\n",
      "11.53729439329409\n",
      "0.188814027150623\n",
      "13.307903997176812\n",
      "0.042524294530983386\n",
      "20.443162926225504\n",
      "0.13158635498704896\n",
      "19.611636542599616\n",
      "0.4959089652318758\n",
      "16.707535029178352\n",
      "-1.9872000116811623\n",
      "13.257070515847426\n",
      "0.7111041996816074\n",
      "9.099633041103518\n",
      "-0.052171226116506375\n",
      "15.16953409229849\n",
      "0.37875446617619923\n",
      "16.711844197151486\n",
      "0.15749339577820098\n",
      "17.65597486908079\n",
      "0.047621366409776864\n"
     ]
    }
   ],
   "source": [
    "ytrue, ypreds, r2 = [], [], []\n",
    "for tr_, te_ in cv.split(X, y):\n",
    "    Xtr, ytr = X[tr_], y[tr_]\n",
    "    Xte, yte = X[te_], y[te_]\n",
    "    \n",
    "    clf.fit(Xtr, ytr)\n",
    "    r2 += [clf.score(Xte, yte)]\n",
    "    print(r2[-1])\n",
    "\n",
    "    yn2 = clf.predict(Xte)\n",
    "    ytrue += list(yte)\n",
    "    ypreds += list(yn2)\n",
    "    \n",
    "    print(mean_absolute_error(yte, yn2))\n",
    "print(np.mean(r2))"
   ]
  },
  {
   "cell_type": "code",
   "execution_count": 107,
   "id": "891c393c",
   "metadata": {},
   "outputs": [],
   "source": [
    "import matplotlib.pyplot as plt\n",
    "\n",
    "%matplotlib inline"
   ]
  },
  {
   "cell_type": "code",
   "execution_count": 122,
   "id": "ef0f7e81",
   "metadata": {},
   "outputs": [],
   "source": [
    "from sklearn.metrics import r2_score"
   ]
  },
  {
   "cell_type": "code",
   "execution_count": 128,
   "id": "206d641e",
   "metadata": {},
   "outputs": [
    {
     "data": {
      "text/plain": [
       "<matplotlib.collections.PathCollection at 0x7f786e3e87f0>"
      ]
     },
     "execution_count": 128,
     "metadata": {},
     "output_type": "execute_result"
    },
    {
     "data": {
      "image/png": "[encoded data removed]",
      "text/plain": [
       "<Figure size 432x288 with 1 Axes>"
      ]
     },
     "metadata": {
      "needs_background": "light"
     },
     "output_type": "display_data"
    }
   ],
   "source": [
    "plt.scatter(ytrue, y)\n",
    "# plt.plot(np.arange(100), np.arange(100))\n"
   ]
  },
  {
   "cell_type": "code",
   "execution_count": 66,
   "id": "ed0271b7",
   "metadata": {},
   "outputs": [],
   "source": [
    "clf.fit(X, y)\n",
    "yn = clf.predict(X)"
   ]
  },
  {
   "cell_type": "code",
   "execution_count": 69,
   "id": "c5020975",
   "metadata": {},
   "outputs": [
    {
     "data": {
      "text/plain": [
       "0.999989522996487"
      ]
     },
     "execution_count": 69,
     "metadata": {},
     "output_type": "execute_result"
    }
   ],
   "source": [
    "clf.score(X, y)"
   ]
  },
  {
   "cell_type": "code",
   "execution_count": 379,
   "id": "2d9c268c",
   "metadata": {},
   "outputs": [],
   "source": [
    "X = df.query('instrumentation==\"sparse\" and simulation==\"ref\"').rankgraph\n",
    "_ind = np.triu_indices(n=83, k=1)\n",
    "X = np.stack([g[_ind] for g in X])\n",
    "\n",
    "y = np.stack(df.query('instrumentation==\"sparse\" and simulation==\"ref\"').sex)\n",
    "dummy = np.zeros((len(y), 2))\n",
    "dummy[:,0] = y == 0\n",
    "dummy[:,1] = y == 1"
   ]
  },
  {
   "cell_type": "code",
   "execution_count": 380,
   "id": "7096b92d",
   "metadata": {},
   "outputs": [
    {
     "data": {
      "text/plain": [
       "((97, 3403), (97, 2))"
      ]
     },
     "execution_count": 380,
     "metadata": {},
     "output_type": "execute_result"
    }
   ],
   "source": [
    "X.shape, dummy.shape"
   ]
  },
  {
   "cell_type": "code",
   "execution_count": 381,
   "id": "77e73994",
   "metadata": {},
   "outputs": [],
   "source": [
    "from sklearn.cross_decomposition import PLSRegression\n",
    "from sklearn.model_selection import StratifiedKFold\n",
    "from sklearn.metrics import mean_absolute_error, f1_score"
   ]
  },
  {
   "cell_type": "code",
   "execution_count": 382,
   "id": "58004681",
   "metadata": {},
   "outputs": [],
   "source": [
    "clf = PLSRegression(n_components=20, scale=True, tol=1e-6)\n",
    "clf = Pipeline([pca, lrc])\n",
    "cv = StratifiedKFold(n_splits=10)"
   ]
  },
  {
   "cell_type": "code",
   "execution_count": 383,
   "id": "91adda62",
   "metadata": {},
   "outputs": [
    {
     "name": "stdout",
     "output_type": "stream",
     "text": [
      "0.4615384615384615\n",
      "0.7272727272727272\n",
      "0.7142857142857143\n",
      "0.8333333333333334\n",
      "0.7692307692307692\n",
      "0.5714285714285715\n",
      "0.4\n",
      "0.9090909090909091\n",
      "0.6\n",
      "0.4444444444444445\n"
     ]
    }
   ],
   "source": [
    "ytrue, ypreds, yn2 = [], [], []\n",
    "for tr_, te_ in cv.split(X, y):\n",
    "    Xtr, ytr = X[tr_], y[tr_]\n",
    "    Xte, yte = X[te_], y[te_]\n",
    "#     Xtr, ytr = X[tr_], dummy[tr_]\n",
    "#     Xte, yte = X[te_], dummy[te_]\n",
    "    \n",
    "    clf.fit(Xtr, ytr)\n",
    "\n",
    "    yn2 = clf.predict(Xte)\n",
    "    ytrue += list(yte)\n",
    "    ypreds += list(yn2)\n",
    "    \n",
    "    y_t = yte\n",
    "    y_p = np.array(yn2 > 0.5, dtype=int)\n",
    "#     y_t = np.argmax(yte, axis=1)\n",
    "#     y_p = np.argmax(yn2, axis=1)\n",
    "\n",
    "    print(f1_score(y_t, y_p))"
   ]
  },
  {
   "cell_type": "code",
   "execution_count": 384,
   "id": "c93f1818",
   "metadata": {},
   "outputs": [
    {
     "data": {
      "text/plain": [
       "0.6495726495726496"
      ]
     },
     "execution_count": 384,
     "metadata": {},
     "output_type": "execute_result"
    }
   ],
   "source": [
    "y_t = ytrue\n",
    "y_p = np.array(np.array(ypreds) > 0.5, dtype=int)\n",
    "\n",
    "# y_t = np.argmax(ytrue, axis=1)\n",
    "# y_p = np.argmax(ypreds, axis=1)\n",
    "\n",
    "f1_score(y_t, y_p)"
   ]
  },
  {
   "cell_type": "code",
   "execution_count": 166,
   "id": "9c93f892",
   "metadata": {},
   "outputs": [
    {
     "data": {
      "text/plain": [
       "array([1, 1, 1, 0, 1, 1, 1, 0, 1, 1, 0, 0, 1, 1, 0, 1, 1, 1, 1, 0, 0, 1,\n",
       "       0, 1, 0, 1, 1, 1, 1, 1, 1, 1, 1, 1, 0, 0, 1, 1, 0, 0, 1, 1, 0, 0,\n",
       "       1, 1, 1, 1, 0, 0, 0, 0, 1, 0, 0, 0, 0, 1, 0, 0, 0, 1, 0, 0, 1, 1,\n",
       "       1, 1, 0, 0, 1, 1, 1, 1, 0, 1, 1, 0, 1, 1, 0, 0, 1, 1, 1, 1, 0, 1,\n",
       "       0, 1, 0, 0, 0, 1, 1, 1, 1])"
      ]
     },
     "execution_count": 166,
     "metadata": {},
     "output_type": "execute_result"
    }
   ],
   "source": []
  },
  {
   "cell_type": "code",
   "execution_count": 527,
   "id": "58b11b1d",
   "metadata": {},
   "outputs": [
    {
     "data": {
      "image/png": "[encoded data removed]",
      "text/plain": [
       "<Figure size 432x288 with 1 Axes>"
      ]
     },
     "metadata": {
      "needs_background": "light"
     },
     "output_type": "display_data"
    }
   ],
   "source": [
    "y = np.stack(df.query('instrumentation==\"sparse\" and simulation==\"ref\"').age)\n",
    "cnt, bins, fig = plt.hist(y, bins=20)"
   ]
  },
  {
   "cell_type": "code",
   "execution_count": 529,
   "id": "515bdca1",
   "metadata": {},
   "outputs": [
    {
     "data": {
      "text/plain": [
       "array([ 6.  ,  9.85, 13.7 , 17.55, 21.4 , 25.25, 29.1 , 32.95, 36.8 ,\n",
       "       40.65, 44.5 , 48.35, 52.2 , 56.05, 59.9 , 63.75, 67.6 , 71.45,\n",
       "       75.3 , 79.15, 83.  ])"
      ]
     },
     "execution_count": 529,
     "metadata": {},
     "output_type": "execute_result"
    }
   ],
   "source": [
    "for c in cnt:\n",
    "    if c "
   ]
  },
  {
   "cell_type": "code",
   "execution_count": 520,
   "id": "e7dcd9c9",
   "metadata": {
    "scrolled": false
   },
   "outputs": [
    {
     "data": {
      "text/plain": [
       "((80,), (80, 3403))"
      ]
     },
     "execution_count": 520,
     "metadata": {},
     "output_type": "execute_result"
    },
    {
     "data": {
      "image/png": "[encoded data removed]",
      "text/plain": [
       "<Figure size 432x288 with 1 Axes>"
      ]
     },
     "metadata": {
      "needs_background": "light"
     },
     "output_type": "display_data"
    }
   ],
   "source": [
    "np.random.seed(42)\n",
    "df_bulk_ages = df.copy()\n",
    "\n",
    "bl, bu = 13.5, 17.5\n",
    "n = 5\n",
    "qstr = 'instrumentation==\"sparse\" and simulation==\"ref\" and age < {0} and age > {1}'\n",
    "# for \n",
    "df_bulk_ages = df_bulk_ages.query(qstr.format(bu, bl))\n",
    "subs = df_bulk_ages.sample(n=n).subject\n",
    "\n",
    "remove_subs = set(df_bulk_ages.subject) - set(subs)\n",
    "df2 = df.copy()\n",
    "df2 = df2[~df.subject.isin(remove_subs)]\n",
    "y = np.stack(df2.query('instrumentation==\"sparse\" and simulation==\"ref\"').age)\n",
    "len(y)\n",
    "plt.hist(y, bins=20)\n",
    "\n",
    "X = df2.query('instrumentation==\"sparse\" and simulation==\"ref\"').loggraph\n",
    "_ind = np.triu_indices(n=83, k=1)\n",
    "X = np.stack([g[_ind] for g in X])\n",
    "y.shape, X.shape"
   ]
  },
  {
   "cell_type": "code",
   "execution_count": 521,
   "id": "d1b65dd9",
   "metadata": {},
   "outputs": [],
   "source": [
    "from sklearn.cross_decomposition import PLSRegression\n",
    "from sklearn.model_selection import StratifiedKFold, KFold\n",
    "from sklearn.metrics import mean_absolute_error, f1_score, r2_score"
   ]
  },
  {
   "cell_type": "code",
   "execution_count": 522,
   "id": "3fd58fa1",
   "metadata": {},
   "outputs": [],
   "source": [
    "clf = PLSRegression(n_components=20, scale=True, tol=1e-6)\n",
    "cv = KFold(n_splits=10)\n",
    "\n",
    "# clf = Pipeline([pca, lrc])\n",
    "# cv = StratifiedKFold(n_splits=10)"
   ]
  },
  {
   "cell_type": "code",
   "execution_count": 523,
   "id": "86902e34",
   "metadata": {},
   "outputs": [
    {
     "name": "stdout",
     "output_type": "stream",
     "text": [
      "0.512564180799354\n",
      "0.39385978353986717\n",
      "0.594923403866862\n",
      "0.3318626971319736\n",
      "0.39889809025327916\n",
      "-3.650126646689751\n",
      "0.7122143686516871\n",
      "0.5296271582548718\n",
      "0.21593650277094678\n",
      "0.1863242004164538\n"
     ]
    }
   ],
   "source": [
    "ytrue, ypred, yn2 = [], [], []\n",
    "for tr_, te_ in cv.split(X, y):\n",
    "    Xtr, ytr = X[tr_], y[tr_]\n",
    "    Xte, yte = X[te_], y[te_]\n",
    "    \n",
    "    clf.fit(Xtr, ytr)\n",
    "    print(clf.score(Xte, yte))\n",
    "    yn2 = clf.predict(Xte)\n",
    "    ytrue += list(yte)\n",
    "    ypred += list(yn2)"
   ]
  },
  {
   "cell_type": "code",
   "execution_count": 524,
   "id": "a9a76f08",
   "metadata": {},
   "outputs": [
    {
     "data": {
      "text/plain": [
       "(13.934575256546776, 0.6598779018985298)"
      ]
     },
     "execution_count": 524,
     "metadata": {},
     "output_type": "execute_result"
    }
   ],
   "source": [
    "mean_absolute_error(ytrue, ypred), np.sqrt(r2_score(ytrue, ypred))"
   ]
  },
  {
   "cell_type": "markdown",
   "id": "f62e3997",
   "metadata": {},
   "source": [
    "loggraph - scaled=True -> r=0.65"
   ]
  },
  {
   "cell_type": "code",
   "execution_count": 479,
   "id": "d2617b79",
   "metadata": {},
   "outputs": [
    {
     "data": {
      "text/plain": [
       "(15.016673598963953, 0.6278729819131954)"
      ]
     },
     "execution_count": 479,
     "metadata": {},
     "output_type": "execute_result"
    }
   ],
   "source": [
    "mean_absolute_error(ytrue, ypred), np.sqrt(r2_score(ytrue, ypred))"
   ]
  },
  {
   "cell_type": "code",
   "execution_count": 461,
   "id": "28f5bac3",
   "metadata": {},
   "outputs": [
    {
     "data": {
      "text/plain": [
       "<matplotlib.collections.PathCollection at 0x7f79a6528340>"
      ]
     },
     "execution_count": 461,
     "metadata": {},
     "output_type": "execute_result"
    },
    {
     "data": {
      "image/png": "[encoded data removed]",
      "text/plain": [
       "<Figure size 432x288 with 1 Axes>"
      ]
     },
     "metadata": {
      "needs_background": "light"
     },
     "output_type": "display_data"
    }
   ],
   "source": [
    "plt.scatter(ytrue, ypred)"
   ]
  },
  {
   "cell_type": "code",
   "execution_count": null,
   "id": "2330c796",
   "metadata": {},
   "outputs": [],
   "source": []
  }
 ],
 "metadata": {
  "kernelspec": {
   "display_name": "Python 3",
   "language": "python",
   "name": "python3"
  },
  "language_info": {
   "codemirror_mode": {
    "name": "ipython",
    "version": 3
   },
   "file_extension": ".py",
   "mimetype": "text/x-python",
   "name": "python",
   "nbconvert_exporter": "python",
   "pygments_lexer": "ipython3",
   "version": "3.8.5"
  }
 },
 "nbformat": 4,
 "nbformat_minor": 5
}
